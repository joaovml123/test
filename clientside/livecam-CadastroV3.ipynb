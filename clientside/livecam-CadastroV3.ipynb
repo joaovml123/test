{
 "cells": [
  {
   "cell_type": "code",
   "execution_count": 1,
   "metadata": {},
   "outputs": [
    {
     "name": "stdout",
     "output_type": "stream",
     "text": [
      "Aguardando até que um rosto seja detectado...\n",
      "Rosto detectado!\n"
     ]
    },
    {
     "name": "stderr",
     "output_type": "stream",
     "text": [
      "Exception in Tkinter callback\n",
      "Traceback (most recent call last):\n",
      "  File \"c:\\python\\.conda\\Lib\\tkinter\\__init__.py\", line 1967, in __call__\n",
      "    return self.func(*args)\n",
      "           ^^^^^^^^^^^^^^^^\n",
      "  File \"C:\\Users\\joaov\\AppData\\Local\\Temp\\ipykernel_18092\\2628650749.py\", line 98, in on_cancel\n",
      "    os.remove(temp_image_path)\n",
      "PermissionError: [WinError 32] O arquivo já está sendo usado por outro processo: 'C:\\\\Users\\\\joaov\\\\AppData\\\\Local\\\\Temp\\\\tmpmknnrmco.png'\n",
      "Exception in Tkinter callback\n",
      "Traceback (most recent call last):\n",
      "  File \"c:\\python\\.conda\\Lib\\tkinter\\__init__.py\", line 1967, in __call__\n",
      "    return self.func(*args)\n",
      "           ^^^^^^^^^^^^^^^^\n",
      "  File \"C:\\Users\\joaov\\AppData\\Local\\Temp\\ipykernel_18092\\2628650749.py\", line 98, in on_cancel\n",
      "    os.remove(temp_image_path)\n",
      "PermissionError: [WinError 32] O arquivo já está sendo usado por outro processo: 'C:\\\\Users\\\\joaov\\\\AppData\\\\Local\\\\Temp\\\\tmpmknnrmco.png'\n",
      "Exception in Tkinter callback\n",
      "Traceback (most recent call last):\n",
      "  File \"c:\\python\\.conda\\Lib\\tkinter\\__init__.py\", line 1967, in __call__\n",
      "    return self.func(*args)\n",
      "           ^^^^^^^^^^^^^^^^\n",
      "  File \"C:\\Users\\joaov\\AppData\\Local\\Temp\\ipykernel_18092\\2628650749.py\", line 98, in on_cancel\n",
      "    os.remove(temp_image_path)\n",
      "PermissionError: [WinError 32] O arquivo já está sendo usado por outro processo: 'C:\\\\Users\\\\joaov\\\\AppData\\\\Local\\\\Temp\\\\tmpmknnrmco.png'\n",
      "Exception in Tkinter callback\n",
      "Traceback (most recent call last):\n",
      "  File \"c:\\python\\.conda\\Lib\\tkinter\\__init__.py\", line 1967, in __call__\n",
      "    return self.func(*args)\n",
      "           ^^^^^^^^^^^^^^^^\n",
      "  File \"C:\\Users\\joaov\\AppData\\Local\\Temp\\ipykernel_18092\\2628650749.py\", line 98, in on_cancel\n",
      "    os.remove(temp_image_path)\n",
      "PermissionError: [WinError 32] O arquivo já está sendo usado por outro processo: 'C:\\\\Users\\\\joaov\\\\AppData\\\\Local\\\\Temp\\\\tmpmknnrmco.png'\n"
     ]
    },
    {
     "name": "stdout",
     "output_type": "stream",
     "text": [
      "Fechando a janela e liberando a câmera...\n"
     ]
    },
    {
     "name": "stderr",
     "output_type": "stream",
     "text": [
      "Exception in Tkinter callback\n",
      "Traceback (most recent call last):\n",
      "  File \"c:\\python\\.conda\\Lib\\tkinter\\__init__.py\", line 1967, in __call__\n",
      "    return self.func(*args)\n",
      "           ^^^^^^^^^^^^^^^^\n",
      "  File \"C:\\Users\\joaov\\AppData\\Local\\Temp\\ipykernel_18092\\2628650749.py\", line 125, in <lambda>\n",
      "    root.bind('<Control-q>', lambda event: on_close())\n",
      "                                           ^^^^^^^^^^\n",
      "  File \"C:\\Users\\joaov\\AppData\\Local\\Temp\\ipykernel_18092\\2628650749.py\", line 74, in on_close\n",
      "    os.remove(temp_image_path)\n",
      "PermissionError: [WinError 32] O arquivo já está sendo usado por outro processo: 'C:\\\\Users\\\\joaov\\\\AppData\\\\Local\\\\Temp\\\\tmpmknnrmco.png'\n"
     ]
    },
    {
     "name": "stdout",
     "output_type": "stream",
     "text": [
      "Fechando a janela e liberando a câmera...\n"
     ]
    },
    {
     "name": "stderr",
     "output_type": "stream",
     "text": [
      "Exception in Tkinter callback\n",
      "Traceback (most recent call last):\n",
      "  File \"c:\\python\\.conda\\Lib\\tkinter\\__init__.py\", line 1967, in __call__\n",
      "    return self.func(*args)\n",
      "           ^^^^^^^^^^^^^^^^\n",
      "  File \"C:\\Users\\joaov\\AppData\\Local\\Temp\\ipykernel_18092\\2628650749.py\", line 125, in <lambda>\n",
      "    root.bind('<Control-q>', lambda event: on_close())\n",
      "                                           ^^^^^^^^^^\n",
      "  File \"C:\\Users\\joaov\\AppData\\Local\\Temp\\ipykernel_18092\\2628650749.py\", line 74, in on_close\n",
      "    os.remove(temp_image_path)\n",
      "PermissionError: [WinError 32] O arquivo já está sendo usado por outro processo: 'C:\\\\Users\\\\joaov\\\\AppData\\\\Local\\\\Temp\\\\tmpmknnrmco.png'\n"
     ]
    },
    {
     "name": "stdout",
     "output_type": "stream",
     "text": [
      "Fechando a janela e liberando a câmera...\n"
     ]
    },
    {
     "name": "stderr",
     "output_type": "stream",
     "text": [
      "Exception in Tkinter callback\n",
      "Traceback (most recent call last):\n",
      "  File \"c:\\python\\.conda\\Lib\\tkinter\\__init__.py\", line 1967, in __call__\n",
      "    return self.func(*args)\n",
      "           ^^^^^^^^^^^^^^^^\n",
      "  File \"C:\\Users\\joaov\\AppData\\Local\\Temp\\ipykernel_18092\\2628650749.py\", line 125, in <lambda>\n",
      "    root.bind('<Control-q>', lambda event: on_close())\n",
      "                                           ^^^^^^^^^^\n",
      "  File \"C:\\Users\\joaov\\AppData\\Local\\Temp\\ipykernel_18092\\2628650749.py\", line 74, in on_close\n",
      "    os.remove(temp_image_path)\n",
      "PermissionError: [WinError 32] O arquivo já está sendo usado por outro processo: 'C:\\\\Users\\\\joaov\\\\AppData\\\\Local\\\\Temp\\\\tmpmknnrmco.png'\n"
     ]
    },
    {
     "name": "stdout",
     "output_type": "stream",
     "text": [
      "Fechando a janela e liberando a câmera...\n"
     ]
    },
    {
     "name": "stderr",
     "output_type": "stream",
     "text": [
      "Exception in Tkinter callback\n",
      "Traceback (most recent call last):\n",
      "  File \"c:\\python\\.conda\\Lib\\tkinter\\__init__.py\", line 1967, in __call__\n",
      "    return self.func(*args)\n",
      "           ^^^^^^^^^^^^^^^^\n",
      "  File \"C:\\Users\\joaov\\AppData\\Local\\Temp\\ipykernel_18092\\2628650749.py\", line 125, in <lambda>\n",
      "    root.bind('<Control-q>', lambda event: on_close())\n",
      "                                           ^^^^^^^^^^\n",
      "  File \"C:\\Users\\joaov\\AppData\\Local\\Temp\\ipykernel_18092\\2628650749.py\", line 74, in on_close\n",
      "    os.remove(temp_image_path)\n",
      "PermissionError: [WinError 32] O arquivo já está sendo usado por outro processo: 'C:\\\\Users\\\\joaov\\\\AppData\\\\Local\\\\Temp\\\\tmpmknnrmco.png'\n"
     ]
    },
    {
     "name": "stdout",
     "output_type": "stream",
     "text": [
      "Fechando a janela e liberando a câmera...\n"
     ]
    },
    {
     "name": "stderr",
     "output_type": "stream",
     "text": [
      "Exception in Tkinter callback\n",
      "Traceback (most recent call last):\n",
      "  File \"c:\\python\\.conda\\Lib\\tkinter\\__init__.py\", line 1967, in __call__\n",
      "    return self.func(*args)\n",
      "           ^^^^^^^^^^^^^^^^\n",
      "  File \"C:\\Users\\joaov\\AppData\\Local\\Temp\\ipykernel_18092\\2628650749.py\", line 74, in on_close\n",
      "    os.remove(temp_image_path)\n",
      "PermissionError: [WinError 32] O arquivo já está sendo usado por outro processo: 'C:\\\\Users\\\\joaov\\\\AppData\\\\Local\\\\Temp\\\\tmpmknnrmco.png'\n"
     ]
    },
    {
     "name": "stdout",
     "output_type": "stream",
     "text": [
      "Fechando a janela e liberando a câmera...\n"
     ]
    },
    {
     "name": "stderr",
     "output_type": "stream",
     "text": [
      "Exception in Tkinter callback\n",
      "Traceback (most recent call last):\n",
      "  File \"c:\\python\\.conda\\Lib\\tkinter\\__init__.py\", line 1967, in __call__\n",
      "    return self.func(*args)\n",
      "           ^^^^^^^^^^^^^^^^\n",
      "  File \"C:\\Users\\joaov\\AppData\\Local\\Temp\\ipykernel_18092\\2628650749.py\", line 74, in on_close\n",
      "    os.remove(temp_image_path)\n",
      "PermissionError: [WinError 32] O arquivo já está sendo usado por outro processo: 'C:\\\\Users\\\\joaov\\\\AppData\\\\Local\\\\Temp\\\\tmpmknnrmco.png'\n"
     ]
    },
    {
     "ename": "KeyboardInterrupt",
     "evalue": "",
     "output_type": "error",
     "traceback": [
      "\u001b[1;31m---------------------------------------------------------------------------\u001b[0m",
      "\u001b[1;31mKeyboardInterrupt\u001b[0m                         Traceback (most recent call last)",
      "Cell \u001b[1;32mIn[1], line 183\u001b[0m\n\u001b[0;32m    181\u001b[0m \u001b[38;5;66;03m# Testar a função com a URL de cadastro\u001b[39;00m\n\u001b[0;32m    182\u001b[0m server_url \u001b[38;5;241m=\u001b[39m \u001b[38;5;124m'\u001b[39m\u001b[38;5;124mhttp://127.0.0.1:5000/register\u001b[39m\u001b[38;5;124m'\u001b[39m\n\u001b[1;32m--> 183\u001b[0m \u001b[43mdetect_faces_from_webcam_and_register_to_server\u001b[49m\u001b[43m(\u001b[49m\u001b[43mserver_url\u001b[49m\u001b[43m)\u001b[49m\n",
      "Cell \u001b[1;32mIn[1], line 179\u001b[0m, in \u001b[0;36mdetect_faces_from_webcam_and_register_to_server\u001b[1;34m(server_url)\u001b[0m\n\u001b[0;32m    176\u001b[0m         label\u001b[38;5;241m.\u001b[39mafter(\u001b[38;5;241m10\u001b[39m, update_frame)\n\u001b[0;32m    178\u001b[0m update_frame()\n\u001b[1;32m--> 179\u001b[0m \u001b[43mroot\u001b[49m\u001b[38;5;241;43m.\u001b[39;49m\u001b[43mmainloop\u001b[49m\u001b[43m(\u001b[49m\u001b[43m)\u001b[49m\n",
      "File \u001b[1;32mc:\\python\\.conda\\Lib\\tkinter\\__init__.py:1504\u001b[0m, in \u001b[0;36mMisc.mainloop\u001b[1;34m(self, n)\u001b[0m\n\u001b[0;32m   1502\u001b[0m \u001b[38;5;28;01mdef\u001b[39;00m \u001b[38;5;21mmainloop\u001b[39m(\u001b[38;5;28mself\u001b[39m, n\u001b[38;5;241m=\u001b[39m\u001b[38;5;241m0\u001b[39m):\n\u001b[0;32m   1503\u001b[0m \u001b[38;5;250m    \u001b[39m\u001b[38;5;124;03m\"\"\"Call the mainloop of Tk.\"\"\"\u001b[39;00m\n\u001b[1;32m-> 1504\u001b[0m     \u001b[38;5;28;43mself\u001b[39;49m\u001b[38;5;241;43m.\u001b[39;49m\u001b[43mtk\u001b[49m\u001b[38;5;241;43m.\u001b[39;49m\u001b[43mmainloop\u001b[49m\u001b[43m(\u001b[49m\u001b[43mn\u001b[49m\u001b[43m)\u001b[49m\n",
      "\u001b[1;31mKeyboardInterrupt\u001b[0m: "
     ]
    }
   ],
   "source": [
    "import tkinter as tk\n",
    "from tkinter import messagebox\n",
    "from PIL import Image, ImageTk\n",
    "import cv2\n",
    "import face_recognition\n",
    "import numpy as np\n",
    "import requests\n",
    "import tempfile\n",
    "import os\n",
    "\n",
    "def register_face_to_server(server_url, client_id, image_path):\n",
    "    \"\"\"\n",
    "    Envia a imagem e o Client ID para o servidor usando multipart/form-data.\n",
    "    \"\"\"\n",
    "    data = {'name': client_id}\n",
    "\n",
    "    try:\n",
    "        # Abrir a imagem detectada e enviá-la com a solicitação POST\n",
    "        with open(image_path, 'rb') as image_file:\n",
    "            files = {'image': image_file}\n",
    "            response = requests.post(server_url, data=data, files=files)\n",
    "\n",
    "        # Verificar se a requisição foi bem-sucedida\n",
    "        if response.status_code in [200, 201]:\n",
    "            print(f\"Imagem enviada com sucesso: {image_path}\")\n",
    "            response_json = response.json()\n",
    "            \n",
    "            # Exibir a mensagem do servidor (se houver)\n",
    "            if 'message' in response_json:\n",
    "                print(f\"Mensagem do servidor: {response_json['message']}\")\n",
    "                messagebox.showinfo(\"Cadastro\", response_json['message'])\n",
    "            \n",
    "            # Exibir a codificação facial armazenada (se houver)\n",
    "            if 'face_encoding' in response_json:\n",
    "                print(f\"Codificação facial armazenada: {response_json['face_encoding']}\")\n",
    "        else:\n",
    "            print(f\"Falha ao enviar a imagem. Código de status: {response.status_code}\")\n",
    "            print(\"Resposta:\", response.text)\n",
    "            messagebox.showerror(\"Erro\", f\"Falha ao cadastrar rosto: {response.text}\")\n",
    "\n",
    "    except FileNotFoundError:\n",
    "        print(f\"Erro: O arquivo de imagem '{image_path}' não foi encontrado.\")\n",
    "        messagebox.showerror(\"Erro\", f\"Erro: Arquivo '{image_path}' não encontrado.\")\n",
    "    except Exception as e:\n",
    "        print(f\"Ocorreu um erro: {str(e)}\")\n",
    "        messagebox.showerror(\"Erro\", f\"Ocorreu um erro ao cadastrar o rosto: {str(e)}\")\n",
    "\n",
    "def detect_faces_from_webcam_and_register_to_server(server_url):\n",
    "    \"\"\"\n",
    "    Captura a imagem da webcam e, após o usuário confirmar, envia a imagem para o servidor.\n",
    "    \"\"\"\n",
    "    net = cv2.dnn.readNetFromCaffe(\"deploy.prototxt\", \"res10_300x300_ssd_iter_140000.caffemodel\")\n",
    "\n",
    "    video_capture = cv2.VideoCapture(0)\n",
    "    if not video_capture.isOpened():\n",
    "        print(\"Não foi possível acessar a webcam.\")\n",
    "        return\n",
    "\n",
    "    print(\"Aguardando até que um rosto seja detectado...\")\n",
    "\n",
    "    stop = False\n",
    "    face_detected = False\n",
    "    temp_image_path = None  # Caminho temporário da imagem capturada\n",
    "\n",
    "    def on_close():\n",
    "        nonlocal stop, temp_image_path\n",
    "        stop = True\n",
    "        print(\"Fechando a janela e liberando a câmera...\")\n",
    "        \n",
    "        if video_capture.isOpened():\n",
    "            video_capture.release()\n",
    "        \n",
    "        if temp_image_path and os.path.exists(temp_image_path):\n",
    "            os.remove(temp_image_path)\n",
    "        \n",
    "        root.destroy()\n",
    "\n",
    "    def on_register():\n",
    "        nonlocal face_detected, temp_image_path\n",
    "        client_id = entry_client_id.get()\n",
    "\n",
    "        if not client_id:\n",
    "            messagebox.showerror(\"Erro\", \"O Client ID não pode estar vazio.\")\n",
    "            return\n",
    "        \n",
    "        if temp_image_path:\n",
    "            register_face_to_server(server_url, client_id, temp_image_path)\n",
    "            face_detected = False  # Resetar para permitir nova captura\n",
    "            reset_gui()\n",
    "        else:\n",
    "            messagebox.showerror(\"Erro\", \"Nenhuma imagem de rosto capturada para cadastrar.\")\n",
    "\n",
    "    def on_cancel():\n",
    "        nonlocal face_detected, temp_image_path\n",
    "        face_detected = False\n",
    "\n",
    "        if temp_image_path and os.path.exists(temp_image_path):\n",
    "            os.remove(temp_image_path)\n",
    "            temp_image_path = None\n",
    "\n",
    "        reset_gui()\n",
    "\n",
    "    def reset_gui():\n",
    "        entry_client_id.delete(0, tk.END)  # Limpar o campo de Client ID\n",
    "        btn_register.pack_forget()  # Ocultar o botão de cadastrar\n",
    "        btn_cancel.pack_forget()  # Ocultar o botão de cancelar\n",
    "        update_frame()  # Retomar a captura da webcam\n",
    "\n",
    "    root = tk.Tk()\n",
    "    root.title(\"Cadastro de Rosto\")\n",
    "\n",
    "    label = tk.Label(root)\n",
    "    label.pack()\n",
    "\n",
    "    frame_controls = tk.Frame(root)\n",
    "    frame_controls.pack()\n",
    "\n",
    "    tk.Label(frame_controls, text=\"Client ID:\").pack(side=tk.LEFT)\n",
    "    entry_client_id = tk.Entry(frame_controls)\n",
    "    entry_client_id.pack(side=tk.LEFT)\n",
    "\n",
    "    btn_cancel = tk.Button(frame_controls, text=\"Cancelar\", command=on_cancel)\n",
    "    btn_register = tk.Button(frame_controls, text=\"Cadastrar Rosto\", command=on_register)\n",
    "\n",
    "    root.bind('<Control-q>', lambda event: on_close())\n",
    "    root.protocol(\"WM_DELETE_WINDOW\", on_close)\n",
    "\n",
    "    def update_frame():\n",
    "        nonlocal face_detected, temp_image_path\n",
    "\n",
    "        if stop or face_detected:\n",
    "            return\n",
    "\n",
    "        ret, frame = video_capture.read()\n",
    "\n",
    "        if not ret:\n",
    "            print(\"Falha ao capturar imagem da webcam\")\n",
    "            return\n",
    "\n",
    "        (h, w) = frame.shape[:2]\n",
    "\n",
    "        blob = cv2.dnn.blobFromImage(cv2.resize(frame, (300, 300)), 1.0, (300, 300), (104.0, 177.0, 123.0))\n",
    "        net.setInput(blob)\n",
    "        detections = net.forward()\n",
    "\n",
    "        face_locations = []\n",
    "\n",
    "        for i in range(0, detections.shape[2]):\n",
    "            confidence = detections[0, 0, i, 2]\n",
    "\n",
    "            if confidence > 0.5:\n",
    "                box = detections[0, 0, i, 3:7] * np.array([w, h, w, h])\n",
    "                (startX, startY, endX, endY) = box.astype(\"int\")\n",
    "\n",
    "                face_locations.append((startY, endX, endY, startX))\n",
    "\n",
    "                cv2.rectangle(frame, (startX, startY), (endX, endY), (0, 255, 0), 2)\n",
    "\n",
    "        rgb_frame = cv2.cvtColor(frame, cv2.COLOR_BGR2RGB)\n",
    "        frame_image = Image.fromarray(rgb_frame)\n",
    "        imgtk = ImageTk.PhotoImage(image=frame_image)\n",
    "\n",
    "        label.imgtk = imgtk\n",
    "        label.configure(image=imgtk)\n",
    "\n",
    "        if len(face_locations) > 0:\n",
    "            print(\"Rosto detectado!\")\n",
    "\n",
    "            _, temp_image_path = tempfile.mkstemp(suffix='.png')\n",
    "            cv2.imwrite(temp_image_path, frame)\n",
    "\n",
    "            face_detected = True\n",
    "            btn_register.pack(side=tk.LEFT, padx=5)\n",
    "            btn_cancel.pack(side=tk.LEFT, padx=5)\n",
    "        else:\n",
    "            label.after(10, update_frame)\n",
    "\n",
    "    update_frame()\n",
    "    root.mainloop()\n",
    "\n",
    "# Testar a função com a URL de cadastro\n",
    "server_url = 'http://127.0.0.1:5000/register'\n",
    "detect_faces_from_webcam_and_register_to_server(server_url)\n"
   ]
  },
  {
   "cell_type": "code",
   "execution_count": null,
   "metadata": {},
   "outputs": [],
   "source": []
  },
  {
   "cell_type": "code",
   "execution_count": null,
   "metadata": {},
   "outputs": [],
   "source": []
  },
  {
   "cell_type": "code",
   "execution_count": 2,
   "metadata": {},
   "outputs": [
    {
     "name": "stdout",
     "output_type": "stream",
     "text": [
      "Aguardando até que um rosto seja detectado... (Pressione Ctrl+Q para sair)\n",
      "Rosto detectado!\n",
      "Rosto detectado!\n",
      "Rosto detectado!\n",
      "Rosto detectado!\n",
      "Fechando a janela e liberando a câmera...\n"
     ]
    }
   ],
   "source": []
  }
 ],
 "metadata": {
  "kernelspec": {
   "display_name": "Python 3",
   "language": "python",
   "name": "python3"
  },
  "language_info": {
   "codemirror_mode": {
    "name": "ipython",
    "version": 3
   },
   "file_extension": ".py",
   "mimetype": "text/x-python",
   "name": "python",
   "nbconvert_exporter": "python",
   "pygments_lexer": "ipython3",
   "version": "3.11.9"
  }
 },
 "nbformat": 4,
 "nbformat_minor": 2
}
